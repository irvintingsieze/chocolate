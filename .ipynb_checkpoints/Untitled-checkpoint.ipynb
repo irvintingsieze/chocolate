{
 "cells": [
  {
   "cell_type": "code",
   "execution_count": 4,
   "id": "bcfba337",
   "metadata": {},
   "outputs": [],
   "source": [
    "from flask import Flask"
   ]
  },
  {
   "cell_type": "code",
   "execution_count": null,
   "id": "4f7564d7",
   "metadata": {},
   "outputs": [],
   "source": [
    "from flask import Flask\n",
    "from flask import request, render_template\n",
    "app = Flask(__name__)\n",
    "\n",
    "@app.route(\"/\", methods = [\"GET\",\"POST\"])\n",
    "def index ():\n",
    "    if request == \"POST\":\n",
    "        return (render_template(\"index.html\", taste = \"Predict Taste!!!\"))\n",
    "    else:\n",
    "        return (render_template(\"index.html\", taste = \"Predict Taste!\"))\n",
    "\n",
    "app.run()\n"
   ]
  },
  {
   "cell_type": "code",
   "execution_count": null,
   "id": "7253af46",
   "metadata": {},
   "outputs": [],
   "source": []
  }
 ],
 "metadata": {
  "kernelspec": {
   "display_name": "Python 3",
   "language": "python",
   "name": "python3"
  },
  "language_info": {
   "codemirror_mode": {
    "name": "ipython",
    "version": 3
   },
   "file_extension": ".py",
   "mimetype": "text/x-python",
   "name": "python",
   "nbconvert_exporter": "python",
   "pygments_lexer": "ipython3",
   "version": "3.6.13"
  }
 },
 "nbformat": 4,
 "nbformat_minor": 5
}
